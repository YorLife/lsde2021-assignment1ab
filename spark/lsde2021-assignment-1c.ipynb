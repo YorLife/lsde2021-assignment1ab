{
 "cells": [
  {
   "cell_type": "code",
   "execution_count": null,
   "metadata": {},
   "outputs": [],
   "source": [
    "from pyspark.sql.session import SparkSession\n",
    "from pyspark.sql.functions import *\n",
    "import time\n",
    "\n",
    "spark = SparkSession.builder.getOrCreate()"
   ]
  },
  {
   "cell_type": "code",
   "execution_count": null,
   "metadata": {},
   "outputs": [],
   "source": [
    "datadir = \"/opt/lsde/dataset-sf100-bidirectional/\""
   ]
  },
  {
   "cell_type": "code",
   "execution_count": null,
   "metadata": {},
   "outputs": [],
   "source": [
    "def reorg(datadir):\n",
    "    t0 = time.monotonic()\n",
    "    \n",
    "    # nothing here (yet)\n",
    "    \n",
    "    t1 = (time.monotonic() - t0)*1000\n",
    "    print(f\"Reorg time: {t1:.4f} ms\")"
   ]
  },
  {
   "cell_type": "code",
   "execution_count": null,
   "metadata": {},
   "outputs": [],
   "source": [
    "def cruncher(datadir, a1, a2, a3, a4, d1, d2):\n",
    "    t0 = time.monotonic()\n",
    "    \n",
    "    person   = spark.read.format(\"csv\").option(\"header\", \"true\").option(\"delimiter\", \"|\").option(\"inferschema\", \"true\").load(datadir + \"/person*.csv*\")\n",
    "    interest = spark.read.format(\"csv\").option(\"header\", \"true\").option(\"delimiter\", \"|\").option(\"inferschema\", \"true\").load(datadir + \"/interest*.csv*\")\n",
    "    knows    = spark.read.format(\"csv\").option(\"header\", \"true\").option(\"delimiter\", \"|\").option(\"inferschema\", \"true\").load(datadir + \"/knows*.csv*\")\n",
    "\n",
    "    # find p1 candidates\n",
    "    p1 = interest \\\n",
    "        .where(col(\"interest\") == a1) \\\n",
    "        .select(col(\"personId\")) \\\n",
    "        .join(person, on=\"personId\") \\\n",
    "        .withColumn(\"bday\", month(col(\"birthday\"))*100 + dayofmonth(col(\"birthday\"))) \\\n",
    "        .filter((d1 <= col(\"bday\")) & (col(\"bday\") <= d2))\n",
    "\n",
    "    # precompute scores of p2/p3 and filter \n",
    "    scores = interest \\\n",
    "        .where(col(\"interest\").isin(a2, a3, a4)) \\\n",
    "        .groupBy(\"personId\") \\\n",
    "        .agg(count(\"interest\").alias(\"score\")) \\\n",
    "        .filter(col(\"score\") >= 2) \\\n",
    "        .join(interest.filter(col(\"interest\") == a1), on=\"personId\", how=\"left_anti\") \\\n",
    "        .select(\"personId\", \"score\")\n",
    "\n",
    "    # to avoid confusion with person.csv's header and with p1/p2/3,\n",
    "    # we rename the header of knows to pA and pB (person A and person B)\n",
    "    same_city_knows = knows \\\n",
    "        .select(col(\"personId\").alias(\"pA\"), col(\"friendId\").alias(\"pB\")) \\\n",
    "        .join(person, on=(col(\"pA\") == col(\"personId\"))) \\\n",
    "        .select(\"pA\", \"pB\", col(\"locatedIn\").alias(\"pAcity\")) \\\n",
    "        .join(person, on=(col(\"pB\") == col(\"personId\"))) \\\n",
    "        .select(\"pA\", \"pB\", \"pAcity\", col(\"locatedIn\").alias(\"pBcity\")) \\\n",
    "        .filter(col(\"pAcity\") == col(\"pBcity\"))\n",
    "\n",
    "    # find p1-p2 candidates\n",
    "    p1p2 = p1 \\\n",
    "        .join(same_city_knows, col(\"personId\") == col(\"pA\")) \\\n",
    "        .select(col(\"pA\").alias(\"p1\"), col(\"pB\").alias(\"p2\")) \\\n",
    "        .join(scores, col(\"p2\") == col(\"personId\")) \\\n",
    "        .select(\"p1\", \"p2\", col(\"score\").alias(\"p2score\"))\n",
    "\n",
    "    # find p1-p2-p3 triangles\n",
    "    p1p2p3 = p1p2 \\\n",
    "        .join(same_city_knows, (col(\"p2\") == col(\"pA\"))) \\\n",
    "        .select(\"p1\", \"p2\", \"p2score\", col(\"pB\").alias(\"p3\")) \\\n",
    "        .filter(col(\"p2\") < col(\"p3\")) \\\n",
    "        .join(scores, col(\"p3\") == col(\"personId\")) \\\n",
    "        .select(\"p1\", \"p2\", \"p3\", \"p2score\", col(\"score\").alias(\"p3score\")) \\\n",
    "        .join(same_city_knows, (col(\"p1\") == col(\"pA\")) & (col(\"p3\") == col(\"pB\")))\n",
    "\n",
    "    # sort to produce final results\n",
    "    result = p1p2p3 \\\n",
    "        .selectExpr(\"p2score + p3score AS score\", \"p1\", \"p2\", \"p3\") \\\n",
    "        .orderBy(desc(\"score\"), asc(\"p1\"), asc(\"p2\"), asc(\"p3\"))\n",
    "\n",
    "    \n",
    "    t1 = (time.monotonic() - t0)*1000\n",
    "    print(f\"Cruncher time: {t1:.4f} ms\")\n",
    "    \n",
    "    return result"
   ]
  },
  {
   "cell_type": "code",
   "execution_count": null,
   "metadata": {},
   "outputs": [],
   "source": [
    "params = [\n",
    "    {\"q\":  1, \"a1\": 1989, \"a2\":  1990, \"a3\": 5183, \"a4\": 1749, \"d1\":  409, \"d2\":  509},\n",
    "    {\"q\":  2, \"a1\": 2788, \"a2\":   568, \"a3\": 2820, \"a4\": 6945, \"d1\":  730, \"d2\":  829},\n",
    "    {\"q\":  3, \"a1\":  775, \"a2\":  2008, \"a3\": 1022, \"a4\":    8, \"d1\":  827, \"d2\":  926},\n",
    "    {\"q\":  4, \"a1\": 2788, \"a2\":  1989, \"a3\": 1023, \"a4\": 7380, \"d1\":  924, \"d2\": 1024},\n",
    "    {\"q\":  5, \"a1\":  139, \"a2\":  2837, \"a3\":  808, \"a4\": 7509, \"d1\":  423, \"d2\":  523},\n",
    "    {\"q\":  6, \"a1\":  468, \"a2\":  2812, \"a3\": 9474, \"a4\": 2803, \"d1\":  819, \"d2\":  918},\n",
    "    {\"q\":  7, \"a1\":  780, \"a2\": 12002, \"a3\": 1180, \"a4\": 2870, \"d1\": 1126, \"d2\": 1226},\n",
    "    {\"q\":  8, \"a1\": 1993, \"a2\":  9141, \"a3\": 6704, \"a4\": 2800, \"d1\":  910, \"d2\": 1010},\n",
    "    {\"q\":  9, \"a1\": 2794, \"a2\":  1989, \"a3\": 1023, \"a4\": 7380, \"d1\":  924, \"d2\": 1024},\n",
    "    {\"q\": 10, \"a1\": 1178, \"a2\":  2059, \"a3\": 1179, \"a4\": 1985, \"d1\":  806, \"d2\":  905}\n",
    "]\n",
    "\n",
    "# by default, only test on first param\n",
    "params = params[0:1]\n",
    "\n",
    "for p in params:\n",
    "    df = cruncher(datadir, p[\"a1\"], p[\"a2\"], p[\"a3\"], p[\"a4\"], p[\"d1\"], p[\"d2\"])\n",
    "    df = df.withColumn(\"q\", lit(p[\"q\"])).select(\"q\", \"p1\", \"p2\", \"p3\", \"score\")\n",
    "    df.show()\n"
   ]
  }
 ],
 "metadata": {
  "kernelspec": {
   "display_name": "Python 3",
   "language": "python",
   "name": "python3"
  },
  "language_info": {
   "codemirror_mode": {
    "name": "ipython",
    "version": 3
   },
   "file_extension": ".py",
   "mimetype": "text/x-python",
   "name": "python",
   "nbconvert_exporter": "python",
   "pygments_lexer": "ipython3",
   "version": "3.8.5"
  }
 },
 "nbformat": 4,
 "nbformat_minor": 4
}
